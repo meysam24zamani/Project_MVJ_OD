{
 "cells": [
  {
   "cell_type": "code",
   "execution_count": 49,
   "metadata": {},
   "outputs": [],
   "source": [
    "from py2neo import Graph, Node, Relationship"
   ]
  },
  {
   "cell_type": "code",
   "execution_count": 50,
   "metadata": {},
   "outputs": [],
   "source": [
    "g=Graph(\"bolt://localhost:7687\",password=\"yourpassword\")"
   ]
  },
  {
   "cell_type": "code",
   "execution_count": 51,
   "metadata": {},
   "outputs": [
    {
     "data": {
      "text/plain": [
       "<py2neo.database.Cursor at 0x1e4257c86c8>"
      ]
     },
     "execution_count": 51,
     "metadata": {},
     "output_type": "execute_result"
    }
   ],
   "source": [
    "g.run(\"MATCH (n) DETACH DELETE n\")"
   ]
  },
  {
   "cell_type": "markdown",
   "metadata": {},
   "source": [
    "# INSERTIONS"
   ]
  },
  {
   "cell_type": "markdown",
   "metadata": {},
   "source": [
    "### LOADING MOVIES"
   ]
  },
  {
   "cell_type": "code",
   "execution_count": 52,
   "metadata": {},
   "outputs": [],
   "source": [
    "loadMovies = '''\n",
    "USING PERIODIC COMMIT\n",
    "LOAD CSV WITH HEADERS FROM \"file:///moviesdesc.csv\" AS row\n",
    "MERGE(m:Movie{title:row.Title, runtime:row.Runtime})\n",
    "MERGE(c:Company{name:row.Company})\n",
    "MERGE (m) -[:producedBy]-> (c) \n",
    "MERGE(p:Country{name:row.Country})\n",
    "MERGE (m) -[:filmedIn]-> (p) \n",
    "MERGE(f1:Filmer{name:row.Director})\n",
    "MERGE (m) -[:directedBy]-> (f1) \n",
    "MERGE(f2:Filmer{name:row.Writer})\n",
    "MERGE (m) -[:writtenBy]-> (f2) \n",
    "MERGE(g:Genre{name:row.Genre})\n",
    "MERGE (m) -[:hasGenre]-> (g)\n",
    "MERGE(y:Year{year:toInt(row.Year)})\n",
    "MERGE (m) -[:filmedYear]-> (y)\n",
    "\n",
    "'''"
   ]
  },
  {
   "cell_type": "code",
   "execution_count": 53,
   "metadata": {},
   "outputs": [
    {
     "data": {
      "text/plain": [
       "<py2neo.database.Cursor at 0x1e4257cc448>"
      ]
     },
     "execution_count": 53,
     "metadata": {},
     "output_type": "execute_result"
    }
   ],
   "source": [
    "g.run(loadMovies)"
   ]
  },
  {
   "cell_type": "markdown",
   "metadata": {},
   "source": [
    "### LOADING USERS"
   ]
  },
  {
   "cell_type": "code",
   "execution_count": 54,
   "metadata": {},
   "outputs": [],
   "source": [
    "loadUsers = '''\n",
    "USING PERIODIC COMMIT\n",
    "LOAD CSV WITH HEADERS FROM \"file:///usermovies2.csv\" AS row\n",
    "MERGE(r:Reviewer{ID:row.Userid})\n",
    "MERGE(a:Age{age:toInt(row.AgeGrader)})\n",
    "MERGE (r) -[:hasAge]-> (a)\n",
    "MERGE(g:Gender{gender:row.GenderGrader})\n",
    "MERGE (r) -[:hasGender]-> (g)\n",
    "MERGE(o:Occupation{name:row.OccupationGrader})\n",
    "MERGE (r) -[:hasOccupation]-> (o)\n",
    "'''"
   ]
  },
  {
   "cell_type": "code",
   "execution_count": 55,
   "metadata": {},
   "outputs": [
    {
     "data": {
      "text/plain": [
       "<py2neo.database.Cursor at 0x1e4257ce808>"
      ]
     },
     "execution_count": 55,
     "metadata": {},
     "output_type": "execute_result"
    }
   ],
   "source": [
    "g.run(loadUsers)"
   ]
  },
  {
   "cell_type": "markdown",
   "metadata": {},
   "source": [
    "### LOADING RATINGS (Match between Movie and Reviewer rating)"
   ]
  },
  {
   "cell_type": "code",
   "execution_count": 56,
   "metadata": {},
   "outputs": [],
   "source": [
    "loadRatings = '''\n",
    "USING PERIODIC COMMIT\n",
    "LOAD CSV WITH HEADERS FROM \"file:///usermovies2.csv\" AS row\n",
    "MATCH (m:Movie{title:row.MovieTitle})-[:filmedYear] -> (y:Year{year: toInt(row.ReleaseDate)})\n",
    "MATCH (r:Reviewer{ID:row.Userid})\n",
    "MERGE (r) -[:rates{rating:toInt(row.RatingGrader)}]-> (m)\n",
    "'''"
   ]
  },
  {
   "cell_type": "code",
   "execution_count": 57,
   "metadata": {},
   "outputs": [
    {
     "data": {
      "text/plain": [
       "<py2neo.database.Cursor at 0x1e4257d35c8>"
      ]
     },
     "execution_count": 57,
     "metadata": {},
     "output_type": "execute_result"
    }
   ],
   "source": [
    "g.run(loadRatings)"
   ]
  },
  {
   "cell_type": "markdown",
   "metadata": {},
   "source": [
    "### ADD AVGRating AND NRatings FOR REVIEWER"
   ]
  },
  {
   "cell_type": "code",
   "execution_count": 58,
   "metadata": {},
   "outputs": [],
   "source": [
    "addAVGReviewer = '''\n",
    "MATCH (rev:Reviewer)-[r:rates]->()\n",
    "WITH rev,count(r) as nRatings, avg(r.rating) as avgRating\n",
    "ORDER BY avgRating DESC \n",
    "SET rev.avgRating = avgRating, rev.nRatings = nRatings\n",
    "RETURN rev,nRatings, avgRating\n",
    "'''"
   ]
  },
  {
   "cell_type": "code",
   "execution_count": 59,
   "metadata": {},
   "outputs": [
    {
     "data": {
      "text/plain": [
       "<py2neo.database.Cursor at 0x1e4257d5408>"
      ]
     },
     "execution_count": 59,
     "metadata": {},
     "output_type": "execute_result"
    }
   ],
   "source": [
    "g.run(addAVGReviewer)"
   ]
  },
  {
   "cell_type": "markdown",
   "metadata": {},
   "source": [
    "### ADD AVGRating AND NRatings for Movie"
   ]
  },
  {
   "cell_type": "code",
   "execution_count": 60,
   "metadata": {},
   "outputs": [],
   "source": [
    "addAVGMovie = '''\n",
    "MATCH ()-[r:rates]->(m:Movie) \n",
    "WITH m,count(r) as nRatings, avg(r.rating) as avgRating \n",
    "ORDER BY avgRating DESC\n",
    "SET m.avgRating = avgRating, m.nRatings = nRatings\n",
    "RETURN m,nRatings, avgRating\n",
    "'''"
   ]
  },
  {
   "cell_type": "code",
   "execution_count": 61,
   "metadata": {},
   "outputs": [
    {
     "data": {
      "text/plain": [
       "<py2neo.database.Cursor at 0x1e4257d7788>"
      ]
     },
     "execution_count": 61,
     "metadata": {},
     "output_type": "execute_result"
    }
   ],
   "source": [
    "g.run(addAVGMovie)"
   ]
  },
  {
   "cell_type": "markdown",
   "metadata": {},
   "source": [
    "### ADD denominator of cosine distance to the reviewers"
   ]
  },
  {
   "cell_type": "code",
   "execution_count": null,
   "metadata": {},
   "outputs": [],
   "source": [
    "addCosine = '''\n",
    "MATCH ()-[r:rates]->(m:Movie) \n",
    "WITH m,count(r) as nRatings, avg(r.rating) as avgRating \n",
    "ORDER BY avgRating DESC\n",
    "SET m.avgRating = avgRating, m.nRatings = nRatings\n",
    "RETURN m,nRatings, avgRating\n",
    "'''"
   ]
  },
  {
   "cell_type": "code",
   "execution_count": null,
   "metadata": {},
   "outputs": [],
   "source": [
    "g.run(addCosine)"
   ]
  },
  {
   "cell_type": "markdown",
   "metadata": {},
   "source": [
    "# QUERIES"
   ]
  },
  {
   "cell_type": "markdown",
   "metadata": {},
   "source": [
    "### CHECKING MOVIES THAT MATCH"
   ]
  },
  {
   "cell_type": "code",
   "execution_count": null,
   "metadata": {},
   "outputs": [],
   "source": [
    "checkMatchMovies = '''\n",
    "MATCH ()-[r:rates]->(m:Movie) \n",
    "WITH m,count(r) as nRatings \n",
    "ORDER BY nRatings DESC \n",
    "RETURN m,nRatings\n",
    "'''"
   ]
  },
  {
   "cell_type": "code",
   "execution_count": null,
   "metadata": {},
   "outputs": [],
   "source": [
    "g.run(checkMatchMovies)"
   ]
  },
  {
   "cell_type": "markdown",
   "metadata": {},
   "source": [
    "### TOTAL MOVIES"
   ]
  },
  {
   "cell_type": "code",
   "execution_count": null,
   "metadata": {},
   "outputs": [],
   "source": [
    "nMovies = '''\n",
    "MATCH (m:Movie) RETURN count(m)\n",
    "'''"
   ]
  },
  {
   "cell_type": "code",
   "execution_count": null,
   "metadata": {},
   "outputs": [],
   "source": [
    "g.run(nMovies)"
   ]
  },
  {
   "cell_type": "markdown",
   "metadata": {},
   "source": [
    "### TOTAL RATES"
   ]
  },
  {
   "cell_type": "code",
   "execution_count": null,
   "metadata": {},
   "outputs": [],
   "source": [
    "nRates = '''\n",
    "MATCH ()-[r:rates]->()\n",
    "RETURN count(r)\n",
    "'''"
   ]
  },
  {
   "cell_type": "code",
   "execution_count": null,
   "metadata": {},
   "outputs": [],
   "source": [
    "g.run(nRates)"
   ]
  },
  {
   "cell_type": "markdown",
   "metadata": {},
   "source": [
    "### NUMBER OF RATINGS BY REVIEWER"
   ]
  },
  {
   "cell_type": "code",
   "execution_count": null,
   "metadata": {},
   "outputs": [],
   "source": [
    "checkReviewers = '''\n",
    "MATCH (rev:Reviewer)-[r:rates]->() \n",
    "WITH rev,count(r) as nRatings \n",
    "ORDER BY nRatings DESC \n",
    "RETURN rev,nRatings\n",
    "'''"
   ]
  },
  {
   "cell_type": "code",
   "execution_count": null,
   "metadata": {},
   "outputs": [],
   "source": [
    "g.run(checkReviewers)"
   ]
  },
  {
   "cell_type": "markdown",
   "metadata": {},
   "source": [
    "# RECOMMENDATIONS"
   ]
  },
  {
   "cell_type": "markdown",
   "metadata": {},
   "source": [
    "### 20 BEST MOVIES"
   ]
  },
  {
   "cell_type": "code",
   "execution_count": null,
   "metadata": {},
   "outputs": [],
   "source": [
    "findTop20 = '''\n",
    "MATCH (r:Reviewer)-[ra:rates]->(m:Movie)\n",
    "WHERE m.avgRating>4\n",
    "RETURN m.title,count(ra) AS NumberofReviews, m.avgRating AS AverageRating, count(ra)*m.avgRating as score\n",
    "ORDER BY score desc limit 20;\n",
    "'''"
   ]
  },
  {
   "cell_type": "code",
   "execution_count": null,
   "metadata": {},
   "outputs": [],
   "source": [
    "g.run(findTop20)"
   ]
  },
  {
   "cell_type": "markdown",
   "metadata": {},
   "source": [
    "### FIND BETTER MOVIES ACCORDING TO THE MOST SIMILAR USERS"
   ]
  },
  {
   "cell_type": "code",
   "execution_count": null,
   "metadata": {},
   "outputs": [],
   "source": [
    "findSimilarUsers = '''\n",
    "MATCH (r:Reviewer{ID:\"999\"})-[v:rates]->(m:Movie)\n",
    "WITH r,m,v.rating -r.avgRating as rRates\n",
    "MATCH (o:Reviewer)-[w:rates]->(m)\n",
    "WHERE NOT o.ID=\"999\"\n",
    "WITH r,m,rRates, o, w.rating - o.avgRating as oRates\n",
    "WITH r,rRates,o,oRates,m, rRates*oRates as mult\n",
    "WITH o,sum(mult)/(r.squareRates*o.squareRates) as cos\n",
    "ORDER BY cos DESC LIMIT 25\n",
    "MATCH (m1:Movie) \n",
    "WHERE NOT (:Reviewer{ID:\"999\"})-[:rates]->(m1:Movie) AND m1.nRatings > 0\n",
    "MATCH (o:Reviewer)-[x:rates]->(m1)\n",
    "WITH m1, avg(x.rating) as suggestedRating, count(x.rating) as nORating, (avg(x.rating)*0.8 + (1.0*count(x.rating)/25)*5*0.2) as score\n",
    "ORDER BY score DESC\n",
    "WHERE nORating >= 3 AND suggestedRating >= 3\n",
    "RETURN m1, suggestedRating, nORating, score\n",
    "'''"
   ]
  },
  {
   "cell_type": "code",
   "execution_count": null,
   "metadata": {},
   "outputs": [],
   "source": [
    "g.run(findSimilarUsers)"
   ]
  },
  {
   "cell_type": "markdown",
   "metadata": {},
   "source": [
    "### FIND 100 MOST SIMILAR MOVIES TO THE LATEST ONE SEEN"
   ]
  },
  {
   "cell_type": "code",
   "execution_count": null,
   "metadata": {},
   "outputs": [],
   "source": [
    "findSimilarMovies = '''\n",
    "MATCH (y1:Year)<-[:filmedYear]-(m1:Movie{title:'Aliens'})-[:hasGenre]->(g1:Genre)\n",
    "MATCH (w1:Filmer)<-[:writtenBy]-(m1)-[:directedBy]->(d1:Filmer)\n",
    "MATCH (c1:Company)<-[:producedBy]-(m1)-[:filmedIn]->(p1:Country)\n",
    "MATCH (y2:Year)<-[:filmedYear]-(m2:Movie)-[:hasGenre]->(g2:Genre) WHERE m1 <> m2\n",
    "MATCH (w2:Filmer)<-[:writtenBy]-(m2)-[:directedBy]->(d2:Filmer)\n",
    "MATCH (c2:Company)<-[:producedBy]-(m2)-[:filmedIn]->(p2:Country)\n",
    "WITH m1,g1,m2,g2, (CASE WHEN g1 = g2 THEN 1 ELSE 0 END)*0.4 AS g, (CASE WHEN d1 = d2 THEN 1 ELSE 0 END)*0.2 AS d, \n",
    "(CASE WHEN w1 = w2 THEN 1 ELSE 0 END)*0.1 AS w, (CASE WHEN c1 = c2 THEN 1 ELSE 0 END)*0.1 AS c, \n",
    "(CASE WHEN p1 = p2 THEN 1 ELSE 0 END)*0.1 AS p, (CASE WHEN abs(y1.year-y2.year) > 10 THEN 0.0 ELSE 10-abs(y1.year-y2.year) END)*0.01 AS y,\n",
    "(CASE WHEN m2.avgRating IS NULL OR m2.nRatings < 5 THEN 0 ELSE m2.avgRating END)/5 AS avgRat \n",
    "RETURN m2,g2,g+d+w+c+p+y+ avgRat as score1\n",
    "ORDER BY score1 DESC\n",
    "LIMIT 100\n",
    "'''"
   ]
  },
  {
   "cell_type": "code",
   "execution_count": null,
   "metadata": {},
   "outputs": [],
   "source": [
    "g.run(findSimilarMovies)"
   ]
  }
 ],
 "metadata": {
  "kernelspec": {
   "display_name": "Python 3",
   "language": "python",
   "name": "python3"
  },
  "language_info": {
   "codemirror_mode": {
    "name": "ipython",
    "version": 3
   },
   "file_extension": ".py",
   "mimetype": "text/x-python",
   "name": "python",
   "nbconvert_exporter": "python",
   "pygments_lexer": "ipython3",
   "version": "3.7.4"
  }
 },
 "nbformat": 4,
 "nbformat_minor": 2
}
